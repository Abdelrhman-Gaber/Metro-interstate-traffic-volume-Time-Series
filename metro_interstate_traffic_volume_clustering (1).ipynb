{
  "nbformat": 4,
  "nbformat_minor": 0,
  "metadata": {
    "colab": {
      "name": "metro-interstate-traffic-volume_clustering.ipynb",
      "provenance": [],
      "collapsed_sections": []
    },
    "kernelspec": {
      "name": "python3",
      "display_name": "Python 3"
    },
    "language_info": {
      "name": "python"
    }
  },
  "cells": [
    {
      "cell_type": "code",
      "metadata": {
        "id": "yWdyUv9SyFT_"
      },
      "source": [
        "from sklearn.cluster import KMeans \n",
        "from sklearn.decomposition import PCA \n",
        "import matplotlib.pyplot as plt\n",
        "import pandas as pd \n",
        "import numpy as np\n",
        "% matplotlib inline "
      ],
      "execution_count": null,
      "outputs": []
    },
    {
      "cell_type": "code",
      "metadata": {
        "colab": {
          "base_uri": "https://localhost:8080/",
          "height": 204
        },
        "id": "xirQErF383o-",
        "outputId": "52a710eb-6aa5-472e-ee00-47af8e5b4784"
      },
      "source": [
        "df_traffic_data = pd.read_csv('Metro_Interstate_Traffic_Volume.csv')\n",
        "df_traffic_data.head()"
      ],
      "execution_count": null,
      "outputs": [
        {
          "output_type": "execute_result",
          "data": {
            "text/html": [
              "<div>\n",
              "<style scoped>\n",
              "    .dataframe tbody tr th:only-of-type {\n",
              "        vertical-align: middle;\n",
              "    }\n",
              "\n",
              "    .dataframe tbody tr th {\n",
              "        vertical-align: top;\n",
              "    }\n",
              "\n",
              "    .dataframe thead th {\n",
              "        text-align: right;\n",
              "    }\n",
              "</style>\n",
              "<table border=\"1\" class=\"dataframe\">\n",
              "  <thead>\n",
              "    <tr style=\"text-align: right;\">\n",
              "      <th></th>\n",
              "      <th>holiday</th>\n",
              "      <th>temp</th>\n",
              "      <th>rain_1h</th>\n",
              "      <th>snow_1h</th>\n",
              "      <th>clouds_all</th>\n",
              "      <th>weather_main</th>\n",
              "      <th>weather_description</th>\n",
              "      <th>date_time</th>\n",
              "      <th>traffic_volume</th>\n",
              "    </tr>\n",
              "  </thead>\n",
              "  <tbody>\n",
              "    <tr>\n",
              "      <th>0</th>\n",
              "      <td>None</td>\n",
              "      <td>288.28</td>\n",
              "      <td>0.0</td>\n",
              "      <td>0.0</td>\n",
              "      <td>40</td>\n",
              "      <td>Clouds</td>\n",
              "      <td>scattered clouds</td>\n",
              "      <td>2012-10-02 09:00:00</td>\n",
              "      <td>5545</td>\n",
              "    </tr>\n",
              "    <tr>\n",
              "      <th>1</th>\n",
              "      <td>None</td>\n",
              "      <td>289.36</td>\n",
              "      <td>0.0</td>\n",
              "      <td>0.0</td>\n",
              "      <td>75</td>\n",
              "      <td>Clouds</td>\n",
              "      <td>broken clouds</td>\n",
              "      <td>2012-10-02 10:00:00</td>\n",
              "      <td>4516</td>\n",
              "    </tr>\n",
              "    <tr>\n",
              "      <th>2</th>\n",
              "      <td>None</td>\n",
              "      <td>289.58</td>\n",
              "      <td>0.0</td>\n",
              "      <td>0.0</td>\n",
              "      <td>90</td>\n",
              "      <td>Clouds</td>\n",
              "      <td>overcast clouds</td>\n",
              "      <td>2012-10-02 11:00:00</td>\n",
              "      <td>4767</td>\n",
              "    </tr>\n",
              "    <tr>\n",
              "      <th>3</th>\n",
              "      <td>None</td>\n",
              "      <td>290.13</td>\n",
              "      <td>0.0</td>\n",
              "      <td>0.0</td>\n",
              "      <td>90</td>\n",
              "      <td>Clouds</td>\n",
              "      <td>overcast clouds</td>\n",
              "      <td>2012-10-02 12:00:00</td>\n",
              "      <td>5026</td>\n",
              "    </tr>\n",
              "    <tr>\n",
              "      <th>4</th>\n",
              "      <td>None</td>\n",
              "      <td>291.14</td>\n",
              "      <td>0.0</td>\n",
              "      <td>0.0</td>\n",
              "      <td>75</td>\n",
              "      <td>Clouds</td>\n",
              "      <td>broken clouds</td>\n",
              "      <td>2012-10-02 13:00:00</td>\n",
              "      <td>4918</td>\n",
              "    </tr>\n",
              "  </tbody>\n",
              "</table>\n",
              "</div>"
            ],
            "text/plain": [
              "  holiday    temp  ...            date_time  traffic_volume\n",
              "0    None  288.28  ...  2012-10-02 09:00:00            5545\n",
              "1    None  289.36  ...  2012-10-02 10:00:00            4516\n",
              "2    None  289.58  ...  2012-10-02 11:00:00            4767\n",
              "3    None  290.13  ...  2012-10-02 12:00:00            5026\n",
              "4    None  291.14  ...  2012-10-02 13:00:00            4918\n",
              "\n",
              "[5 rows x 9 columns]"
            ]
          },
          "metadata": {
            "tags": []
          },
          "execution_count": 2
        }
      ]
    },
    {
      "cell_type": "code",
      "metadata": {
        "id": "OZZzTWlNCIJN"
      },
      "source": [
        "#copying data to new data frame\n",
        "df_traffic_features = df_traffic_data.copy()"
      ],
      "execution_count": null,
      "outputs": []
    },
    {
      "cell_type": "code",
      "metadata": {
        "id": "tyYGOZyYCUsa"
      },
      "source": [
        "#Extracting features from date_time variable\n",
        "df_traffic_features['date_time'] = pd.to_datetime(df_traffic_features.date_time)\n",
        "df_traffic_features['weekday'] = df_traffic_features.date_time.dt.weekday\n",
        "df_traffic_features['date'] = df_traffic_features.date_time.dt.date\n",
        "df_traffic_features['hour'] = df_traffic_features.date_time.dt.hour\n",
        "df_traffic_features['month'] = df_traffic_features.date_time.dt.month\n",
        "df_traffic_features['year'] = df_traffic_features.date_time.dt.year\n",
        "#Monday is 0 and Sunday is 6"
      ],
      "execution_count": null,
      "outputs": []
    },
    {
      "cell_type": "code",
      "metadata": {
        "id": "Ty4jFVa9CdQi"
      },
      "source": [
        "#13:00:00\t4918\t1\t2012-10-02\t13\t10\t2012\n",
        "#categorizing hours to different time periods like morning, afternoon etc\n",
        "def hour_modify(x):\n",
        "    Early_Morning = [4,5,6,7]\n",
        "    Morning = [8,9,10,11]\n",
        "    Afternoon = [12,13,14,15]\n",
        "    Evening = [16,17,18,19]\n",
        "    Night = [20,21,22,23]\n",
        "    Late_Night = [24,1,2,3]\n",
        "    if x in Early_Morning:\n",
        "        return 'Early_Morning'\n",
        "    elif x in Morning:\n",
        "        return 'Morning'\n",
        "    elif x in Afternoon:\n",
        "        return 'Afternoon'\n",
        "    elif x in Evening:\n",
        "        return 'Evening'\n",
        "    elif x in Night:\n",
        "        return 'Night'\n",
        "    else:\n",
        "        return 'Late_Night'\n",
        "    \n",
        "df_traffic_features['hour'] = df_traffic_features.hour.map(hour_modify)"
      ],
      "execution_count": null,
      "outputs": []
    },
    {
      "cell_type": "code",
      "metadata": {
        "id": "gGrEvI6xCk8q"
      },
      "source": [
        "#Other holidays are very sparse compared to none holidays. \n",
        "#Hence encoding the holidays as TRUE and none Holidays as FALSE\n",
        "\n",
        "def modify_holiday(x):\n",
        "    if x == 'None':\n",
        "        return False\n",
        "    else:\n",
        "        return True\n",
        "df_traffic_features['holiday'] = df_traffic_features['holiday'].map(modify_holiday)"
      ],
      "execution_count": null,
      "outputs": []
    },
    {
      "cell_type": "code",
      "metadata": {
        "id": "SJouii9GCm_H"
      },
      "source": [
        "#Outlier in temp which was detected earlier needs to be removed\n",
        "df_traffic_features = df_traffic_features.loc[df_traffic_features.temp>-250]"
      ],
      "execution_count": null,
      "outputs": []
    },
    {
      "cell_type": "code",
      "metadata": {
        "id": "pr41Q4-RCu2c"
      },
      "source": [
        "df_traffic_features['weather_description'] = df_traffic_features['weather_description'].map(lambda x:x.lower())"
      ],
      "execution_count": null,
      "outputs": []
    },
    {
      "cell_type": "code",
      "metadata": {
        "id": "zKR4ND3CCwQJ"
      },
      "source": [
        "#Any row containing \"thunderstorm\" is replaced by \"thunderstorm\"\n",
        "df_traffic_features.loc[df_traffic_features['weather_description'].str.contains('thunderstorm'),'weather_description'] = 'thunderstorm'  "
      ],
      "execution_count": null,
      "outputs": []
    },
    {
      "cell_type": "code",
      "metadata": {
        "id": "og4TbNocC1nW"
      },
      "source": [
        "weather = ['thunderstorm','mist','fog','haze']\n",
        "df_traffic_features.loc[np.logical_not(df_traffic_features['weather_description'].isin(weather)),'weather_description'] = 'other'"
      ],
      "execution_count": null,
      "outputs": []
    },
    {
      "cell_type": "code",
      "metadata": {
        "id": "TvFOK5otC7UY"
      },
      "source": [
        "#creating dummy variables for these newly created categories in weather description\n",
        "df_traffic_features = pd.get_dummies(columns=['weather_description'],data=df_traffic_features)"
      ],
      "execution_count": null,
      "outputs": []
    },
    {
      "cell_type": "code",
      "metadata": {
        "id": "KikPV7KxDB0e"
      },
      "source": [
        "df_traffic_features.rename(columns={'weather_description_fog':'fog', 'weather_description_haze':'haze',\n",
        "                                   'weather_description_mist':'mist', 'weather_description_thunderstorm':'thunderstorm'}, inplace = True)\n",
        "df_traffic_features.drop(columns = ['weather_description_other', 'weather_main'], inplace = True)"
      ],
      "execution_count": null,
      "outputs": []
    },
    {
      "cell_type": "code",
      "metadata": {
        "id": "vsmvlik3DFBu"
      },
      "source": [
        "#Removing outlier in rain column and converting numeric data to categories\n",
        "#rain value equal to 0.0 as no_rain\n",
        "#rain value greater than 0.0 is cut into 3 quantiles\n",
        "\n",
        "df_traffic_features = df_traffic_features.loc[df_traffic_features.rain_1h<2000]\n",
        "df_traffic_features_temp = df_traffic_features.loc[df_traffic_features.rain_1h>0]\n",
        "rain_q = pd.DataFrame(pd.qcut(df_traffic_features_temp['rain_1h'] ,q=3, labels=['light','moderate','heavy']))\n",
        "df_traffic_cat = df_traffic_features.merge(rain_q,left_index=True, right_index=True, how='left')\n",
        "df_traffic_cat['rain_1h_y'] = df_traffic_cat.rain_1h_y.cat.add_categories('no_rain')\n",
        "df_traffic_cat['rain_1h_y'].fillna('no_rain', inplace = True) #no_rain is not in the category, adding it and filling\n",
        "\n",
        "df_traffic_cat.drop(columns=['rain_1h_x'], inplace = True)\n",
        "df_traffic_cat.rename(columns={'rain_1h_y':'rain_1h'}, inplace = True)"
      ],
      "execution_count": null,
      "outputs": []
    },
    {
      "cell_type": "code",
      "metadata": {
        "id": "fIj6gOv0DNiH"
      },
      "source": [
        "def modify_snow1h(x):\n",
        "    if x==0:\n",
        "        return 'no_snow'\n",
        "    else:\n",
        "        return 'snow'\n",
        "    \n",
        "df_traffic_features['snow_1h'] = df_traffic_cat.snow_1h.map(modify_snow1h)"
      ],
      "execution_count": null,
      "outputs": []
    },
    {
      "cell_type": "code",
      "metadata": {
        "id": "lWeCKNGmDcEJ"
      },
      "source": [
        "#setting date as index\n",
        "df_traffic_cat.set_index('date', inplace = True)"
      ],
      "execution_count": null,
      "outputs": []
    },
    {
      "cell_type": "code",
      "metadata": {
        "id": "O8ucaz7fDmoK"
      },
      "source": [
        "cat_vars = ['holiday', 'snow_1h','weekday', 'hour', 'month', 'year', 'fog', 'haze','mist', 'thunderstorm', 'rain_1h']\n",
        "num_vars = ['temp','clouds_all','traffic_volume']"
      ],
      "execution_count": null,
      "outputs": []
    },
    {
      "cell_type": "code",
      "metadata": {
        "id": "gH_S-tC0Dvsf"
      },
      "source": [
        "#Creating pipeline to transform data\n",
        "from sklearn.pipeline import Pipeline\n",
        "from sklearn.preprocessing import OneHotEncoder, StandardScaler\n",
        "from sklearn.compose import ColumnTransformer\n",
        "\n",
        "numeric_transformer = Pipeline(steps=[\n",
        "    ('scaler', StandardScaler())])\n",
        "categorical_transformer = Pipeline(steps=[\n",
        "    ('oneHot',OneHotEncoder())])\n",
        "\n",
        "preprocessor = ColumnTransformer(transformers=[\n",
        "    ('num',numeric_transformer,num_vars),\n",
        "    ('cat',categorical_transformer,cat_vars)])\n",
        "\n",
        "df_traffic_transformed = preprocessor.fit_transform(df_traffic_cat).toarray()"
      ],
      "execution_count": null,
      "outputs": []
    },
    {
      "cell_type": "code",
      "metadata": {
        "id": "a__eL05tDyiD"
      },
      "source": [
        "# apply PCA to choose best two component\n",
        "pca = PCA(n_components=2)\n",
        "principalComponents = pca.fit_transform(df_traffic_transformed)"
      ],
      "execution_count": null,
      "outputs": []
    },
    {
      "cell_type": "code",
      "metadata": {
        "id": "YyARA5p1EDk-"
      },
      "source": [
        "PCA_components = pd.DataFrame(principalComponents)"
      ],
      "execution_count": null,
      "outputs": []
    },
    {
      "cell_type": "code",
      "metadata": {
        "colab": {
          "base_uri": "https://localhost:8080/",
          "height": 280
        },
        "id": "IO1ozbBOEJ_K",
        "outputId": "c13e118e-3c89-4a5d-9e7e-8a0e80d1f36b"
      },
      "source": [
        "plt.scatter(PCA_components[0], PCA_components[1], alpha=.3, color='gold')\n",
        "plt.xlabel('PCA 1')\n",
        "plt.ylabel('PCA 2')\n",
        "plt.show()"
      ],
      "execution_count": null,
      "outputs": [
        {
          "output_type": "display_data",
          "data": {
            "image/png": "[encoded data removed]",
            "text/plain": [
              "<Figure size 432x288 with 1 Axes>"
            ]
          },
          "metadata": {
            "tags": [],
            "needs_background": "light"
          }
        }
      ]
    },
    {
      "cell_type": "code",
      "metadata": {
        "colab": {
          "base_uri": "https://localhost:8080/",
          "height": 266
        },
        "id": "gp2WBDQ6EQ87",
        "outputId": "c481bfd8-5777-4d7f-e937-e9de5d1dc0fc"
      },
      "source": [
        "# apply Kmeans with two cluster\n",
        "model = KMeans(n_clusters=2)\n",
        "model.fit(PCA_components.iloc[:,:2])\n",
        "\n",
        "labels = model.predict(PCA_components.iloc[:,:2])\n",
        "plt.scatter(PCA_components[0], PCA_components[1], c=labels)\n",
        "plt.show()"
      ],
      "execution_count": null,
      "outputs": [
        {
          "output_type": "display_data",
          "data": {
            "image/png": "[encoded data removed]",
            "text/plain": [
              "<Figure size 432x288 with 1 Axes>"
            ]
          },
          "metadata": {
            "tags": [],
            "needs_background": "light"
          }
        }
      ]
    }
  ]
}